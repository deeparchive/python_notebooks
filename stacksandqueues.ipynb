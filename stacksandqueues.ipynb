{
 "cells": [
  {
   "cell_type": "code",
   "execution_count": 1,
   "metadata": {},
   "outputs": [
    {
     "name": "stdout",
     "output_type": "stream",
     "text": [
      "deque([1, 2, 3, 4, 5, 6])\n",
      "deque([2, 3, 4, 5, 6])\n"
     ]
    }
   ],
   "source": [
    "# List can be used as stacks\n",
    "a = [1, 2, 3]\n",
    "a.append(4)\n",
    "a.pop()\n",
    "\n",
    "# for using lists as queues - FIFO, use deque from collections\n",
    "from collections import deque\n",
    "\n",
    "queue = deque([1, 2, 3, 4])\n",
    "queue.append(5)\n",
    "queue.append(6)\n",
    "print(queue)\n",
    "\n",
    "queue.popleft()\n",
    "print(queue)"
   ]
  },
  {
   "cell_type": "code",
   "execution_count": null,
   "metadata": {
    "collapsed": true
   },
   "outputs": [],
   "source": []
  }
 ],
 "metadata": {
  "kernelspec": {
   "display_name": "Python 3",
   "language": "python",
   "name": "python3"
  },
  "language_info": {
   "codemirror_mode": {
    "name": "ipython",
    "version": 3
   },
   "file_extension": ".py",
   "mimetype": "text/x-python",
   "name": "python",
   "nbconvert_exporter": "python",
   "pygments_lexer": "ipython3",
   "version": "3.6.3"
  }
 },
 "nbformat": 4,
 "nbformat_minor": 2
}
