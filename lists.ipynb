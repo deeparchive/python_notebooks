{
 "cells": [
  {
   "cell_type": "code",
   "execution_count": 20,
   "metadata": {},
   "outputs": [
    {
     "name": "stdout",
     "output_type": "stream",
     "text": [
      "[1, 2]\n",
      "[1, 2]\n"
     ]
    }
   ],
   "source": [
    "### List methods\n",
    "\n",
    "# append method itself doesnt return anything\n",
    "# caller function sees the change what callee made..since list is a mutable object. values are passed by object references\n",
    "def callee(i):\n",
    "    i.append(2)\n",
    "    return i\n",
    "    \n",
    "def caller():\n",
    "    j = [1]\n",
    "    print(callee(j))\n",
    "    print(j)\n",
    "    \n",
    "caller()    \n",
    "    \n"
   ]
  },
  {
   "cell_type": "code",
   "execution_count": 27,
   "metadata": {},
   "outputs": [
    {
     "name": "stdout",
     "output_type": "stream",
     "text": [
      "['orange', 'apple', 'pear', 'banana', 'kiwi', 'apple', 'banana', 'grapes']\n",
      "['orange', 'apple', 'pear', 'banana', 'kiwi', 'apple', 'banana', 'grapes', 'strawberry', 'papaya']\n",
      "['papaya', 'strawberry', 'papaya']\n",
      "['strawberry', 'papaya']\n"
     ]
    }
   ],
   "source": [
    "# for all mutable data structures, insert, append etc returns None\n",
    "# methods on object of list data type\n",
    "\n",
    "fruits = ['orange', 'apple', 'pear', 'banana', 'kiwi', 'apple', 'banana']\n",
    "\n",
    "# append equivalent to fruits[len(fruits):] = ['grapes']\n",
    "fruits.append('grapes')\n",
    "print(fruits)\n",
    "\n",
    "# extend equivalent to fruits[len(fruits):] = iterable\n",
    "a = ['strawberry', 'papaya']\n",
    "fruits.extend(a)\n",
    "print(fruits)\n",
    "\n",
    "# insert at given index : a.append(x) and a.insert(len(a), x) are same\n",
    "a.insert(0, 'papaya')\n",
    "print(a)\n",
    "\n",
    "# a.remove(item) : removes first item\n",
    "a.remove('papaya')\n",
    "print(a)"
   ]
  },
  {
   "cell_type": "code",
   "execution_count": 28,
   "metadata": {},
   "outputs": [
    {
     "name": "stdout",
     "output_type": "stream",
     "text": [
      "['strawberry']\n"
     ]
    }
   ],
   "source": [
    "# pop : removes from index , default last index\n",
    "a.pop()\n",
    "print(a)"
   ]
  },
  {
   "cell_type": "code",
   "execution_count": 29,
   "metadata": {},
   "outputs": [
    {
     "name": "stdout",
     "output_type": "stream",
     "text": [
      "[]\n"
     ]
    }
   ],
   "source": [
    "# clear\n",
    "a.clear()\n",
    "print(a)"
   ]
  },
  {
   "cell_type": "code",
   "execution_count": 34,
   "metadata": {},
   "outputs": [
    {
     "ename": "ValueError",
     "evalue": "'apple' is not in list",
     "output_type": "error",
     "traceback": [
      "\u001b[0;31m---------------------------------------------------------------------------\u001b[0m",
      "\u001b[0;31mValueError\u001b[0m                                Traceback (most recent call last)",
      "\u001b[0;32m<ipython-input-34-a57518e57280>\u001b[0m in \u001b[0;36m<module>\u001b[0;34m()\u001b[0m\n\u001b[1;32m      1\u001b[0m \u001b[0;31m# index\u001b[0m\u001b[0;34m\u001b[0m\u001b[0;34m\u001b[0m\u001b[0m\n\u001b[0;32m----> 2\u001b[0;31m \u001b[0mprint\u001b[0m\u001b[0;34m(\u001b[0m\u001b[0mfruits\u001b[0m\u001b[0;34m.\u001b[0m\u001b[0mindex\u001b[0m\u001b[0;34m(\u001b[0m\u001b[0;34m'apple'\u001b[0m\u001b[0;34m,\u001b[0m \u001b[0;36m2\u001b[0m\u001b[0;34m,\u001b[0m \u001b[0;36m4\u001b[0m\u001b[0;34m)\u001b[0m\u001b[0;34m)\u001b[0m\u001b[0;34m\u001b[0m\u001b[0m\n\u001b[0m",
      "\u001b[0;31mValueError\u001b[0m: 'apple' is not in list"
     ]
    }
   ],
   "source": [
    "# index : item, start, end\n",
    "print(fruits.index('apple', 2, 4))"
   ]
  },
  {
   "cell_type": "code",
   "execution_count": 35,
   "metadata": {},
   "outputs": [
    {
     "name": "stdout",
     "output_type": "stream",
     "text": [
      "2\n"
     ]
    }
   ],
   "source": [
    "# count - number of times an item occurs\n",
    "print(fruits.count('apple'))"
   ]
  },
  {
   "cell_type": "code",
   "execution_count": null,
   "metadata": {
    "collapsed": true
   },
   "outputs": [],
   "source": [
    "# a.sort(key=None, reverse=False)\n",
    "# a.copy() - same as a[:]\n",
    "# a.reverse()"
   ]
  }
 ],
 "metadata": {
  "kernelspec": {
   "display_name": "Python 3",
   "language": "python",
   "name": "python3"
  },
  "language_info": {
   "codemirror_mode": {
    "name": "ipython",
    "version": 3
   },
   "file_extension": ".py",
   "mimetype": "text/x-python",
   "name": "python",
   "nbconvert_exporter": "python",
   "pygments_lexer": "ipython3",
   "version": "3.6.3"
  }
 },
 "nbformat": 4,
 "nbformat_minor": 2
}
